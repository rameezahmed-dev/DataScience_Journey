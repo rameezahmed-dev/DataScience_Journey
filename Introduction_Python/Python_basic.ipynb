{
 "cells": [
  {
   "cell_type": "markdown",
   "id": "943f09cd",
   "metadata": {},
   "source": [
    "# Topics to cover\n",
    "- print\n",
    "- variables (strings, numbers)\n",
    "- variables names (legal, illegal)\n",
    "- mathematical expression (```/, *, +, -```)\n",
    "- mathematical expression (eliminating ambiguity)\n",
    "- concatenating text strings\n"
   ]
  },
  {
   "cell_type": "markdown",
   "id": "c2af7edd",
   "metadata": {},
   "source": [
    "# print \n",
    "\n",
    "```Print``` is keyword which used to display ```strings``` & ```number```\n",
    "    which we write inside the ```paranthesis ()```"
   ]
  },
  {
   "cell_type": "code",
   "execution_count": 1,
   "id": "e8ac982a",
   "metadata": {},
   "outputs": [
    {
     "name": "stdout",
     "output_type": "stream",
     "text": [
      "Hello world..!\n"
     ]
    }
   ],
   "source": [
    "print(\"Hello world..!\")"
   ]
  },
  {
   "cell_type": "code",
   "execution_count": 2,
   "id": "e767444d",
   "metadata": {},
   "outputs": [
    {
     "name": "stdout",
     "output_type": "stream",
     "text": [
      "Welcome to data science\n"
     ]
    }
   ],
   "source": [
    "print(\"Welcome to data science\")"
   ]
  },
  {
   "cell_type": "code",
   "execution_count": 3,
   "id": "fb1f1f7e",
   "metadata": {},
   "outputs": [
    {
     "name": "stdout",
     "output_type": "stream",
     "text": [
      "123\n"
     ]
    }
   ],
   "source": [
    "print(\"123\")"
   ]
  },
  {
   "cell_type": "markdown",
   "id": "3bcadbed",
   "metadata": {},
   "source": [
    "Note: here ```123``` are in form of ```string```"
   ]
  },
  {
   "cell_type": "code",
   "execution_count": 4,
   "id": "e32a79b5",
   "metadata": {},
   "outputs": [
    {
     "name": "stdout",
     "output_type": "stream",
     "text": [
      "1234\n"
     ]
    }
   ],
   "source": [
    "print(1234) "
   ]
  },
  {
   "cell_type": "markdown",
   "id": "77f109d5",
   "metadata": {},
   "source": [
    "Note: here ```1234``` are in form of ```integer```"
   ]
  },
  {
   "cell_type": "markdown",
   "id": "f8aed95c",
   "metadata": {},
   "source": [
    "# variable\n",
    "\n",
    "```variable``` is the container which occupied space in memory to store values    in it. first you have to ```give variable a name```  and than assign values to it by write equal ```=``` to sign after giving name. "
   ]
  },
  {
   "cell_type": "code",
   "execution_count": 5,
   "id": "dc8f7e1b",
   "metadata": {},
   "outputs": [
    {
     "name": "stdout",
     "output_type": "stream",
     "text": [
      "Rameez Ahmed\n"
     ]
    }
   ],
   "source": [
    "name = \"Rameez Ahmed\"\n",
    "print(name)"
   ]
  },
  {
   "cell_type": "markdown",
   "id": "7f8bf361",
   "metadata": {},
   "source": [
    "Note: ```name``` is name of variable which store ```string``` value = ```Rameez Ahmed```"
   ]
  },
  {
   "cell_type": "code",
   "execution_count": 6,
   "id": "062cf6c2",
   "metadata": {},
   "outputs": [
    {
     "name": "stdout",
     "output_type": "stream",
     "text": [
      "25\n"
     ]
    }
   ],
   "source": [
    "age = 25\n",
    "print(age)"
   ]
  },
  {
   "cell_type": "markdown",
   "id": "8c5b0d81",
   "metadata": {},
   "source": [
    "Note: ```age``` is name of variable which store a ```integer``` value = ```25```"
   ]
  },
  {
   "cell_type": "code",
   "execution_count": 7,
   "id": "ccd8eef4",
   "metadata": {},
   "outputs": [
    {
     "name": "stdout",
     "output_type": "stream",
     "text": [
      "Pakistan\n",
      "Sindh\n",
      "Karachi\n"
     ]
    }
   ],
   "source": [
    "country = \"Pakistan\"\n",
    "provence = \"Sindh\"\n",
    "city = \"Karachi\"\n",
    "\n",
    "print(country)\n",
    "print(provence)\n",
    "print(city)"
   ]
  },
  {
   "cell_type": "code",
   "execution_count": 8,
   "id": "f24e49dd",
   "metadata": {},
   "outputs": [
    {
     "name": "stdout",
     "output_type": "stream",
     "text": [
      "Rameez Ahmed\n",
      "25\n",
      "Pakistan\n",
      "Sindh\n",
      "Karachi\n"
     ]
    }
   ],
   "source": [
    "print(name)\n",
    "print(age)\n",
    "print(country)\n",
    "print(provence)\n",
    "print(city)"
   ]
  },
  {
   "cell_type": "code",
   "execution_count": 9,
   "id": "c55d6d63",
   "metadata": {},
   "outputs": [
    {
     "data": {
      "text/plain": [
       "25"
      ]
     },
     "execution_count": 9,
     "metadata": {},
     "output_type": "execute_result"
    }
   ],
   "source": [
    "age = 18\n",
    "age+7\n"
   ]
  },
  {
   "cell_type": "markdown",
   "id": "bcd408a7",
   "metadata": {},
   "source": [
    "Note: So, what happend here!\n",
    "here 7 is added to the age variable which have 18 as its value. so 7 is added 18 which means ```18+7=25```\n",
    "also to note that```datatype of age is integer``` & ``` 7 is also a integer```"
   ]
  },
  {
   "cell_type": "code",
   "execution_count": 10,
   "id": "fd69edbb",
   "metadata": {},
   "outputs": [
    {
     "name": "stdout",
     "output_type": "stream",
     "text": [
      "<class 'int'>\n"
     ]
    }
   ],
   "source": [
    "print(type(age)) # here we check type of variable by keyword \"type\" "
   ]
  },
  {
   "cell_type": "code",
   "execution_count": 11,
   "id": "7ad85182",
   "metadata": {},
   "outputs": [
    {
     "name": "stdout",
     "output_type": "stream",
     "text": [
      "<class 'int'>\n"
     ]
    }
   ],
   "source": [
    "print(type(7)) # here we check type of variable by keyword \"type\""
   ]
  },
  {
   "cell_type": "code",
   "execution_count": 12,
   "id": "79cdfc17",
   "metadata": {},
   "outputs": [
    {
     "name": "stdout",
     "output_type": "stream",
     "text": [
      "<class 'str'>\n"
     ]
    }
   ],
   "source": [
    "print(type(name)) # here we check type of variable by keyword \"type\""
   ]
  },
  {
   "cell_type": "code",
   "execution_count": 13,
   "id": "85df6d50",
   "metadata": {},
   "outputs": [
    {
     "name": "stdout",
     "output_type": "stream",
     "text": [
      "150\n"
     ]
    }
   ],
   "source": [
    "width = 10\n",
    "height = 15\n",
    "area = width * height\n",
    "\n",
    "print(area)"
   ]
  },
  {
   "cell_type": "markdown",
   "id": "20323d25",
   "metadata": {},
   "source": [
    "# variable name rules"
   ]
  },
  {
   "cell_type": "markdown",
   "id": "8193c097",
   "metadata": {},
   "source": [
    "#### 1- variable name should be started with ```Alphabets (A-Z)``` or ```underscore ( _ )```"
   ]
  },
  {
   "cell_type": "code",
   "execution_count": 14,
   "id": "838b720c",
   "metadata": {},
   "outputs": [
    {
     "name": "stdout",
     "output_type": "stream",
     "text": [
      "Rameez Ahmed\n"
     ]
    }
   ],
   "source": [
    "name = \"Rameez Ahmed\"\n",
    "print(name)"
   ]
  },
  {
   "cell_type": "code",
   "execution_count": 15,
   "id": "c787e8b7",
   "metadata": {},
   "outputs": [
    {
     "name": "stdout",
     "output_type": "stream",
     "text": [
      "Muhammad Sadique\n"
     ]
    }
   ],
   "source": [
    "_father_name = \"Muhammad Sadique\"\n",
    "\n",
    "print(_father_name)"
   ]
  },
  {
   "cell_type": "markdown",
   "id": "e16995df",
   "metadata": {},
   "source": [
    "#### 2- variable name should not start with ```number```\n",
    "```but you can use number at the end```"
   ]
  },
  {
   "cell_type": "code",
   "execution_count": 17,
   "id": "7e46448c",
   "metadata": {},
   "outputs": [
    {
     "ename": "SyntaxError",
     "evalue": "invalid syntax (Temp/ipykernel_10436/2408471997.py, line 1)",
     "output_type": "error",
     "traceback": [
      "\u001b[1;36m  File \u001b[1;32m\"C:\\Users\\Tabrizi\\AppData\\Local\\Temp/ipykernel_10436/2408471997.py\"\u001b[1;36m, line \u001b[1;32m1\u001b[0m\n\u001b[1;33m    2address = \"karachi\"  # it generate error\u001b[0m\n\u001b[1;37m     ^\u001b[0m\n\u001b[1;31mSyntaxError\u001b[0m\u001b[1;31m:\u001b[0m invalid syntax\n"
     ]
    }
   ],
   "source": [
    "2address = \"karachi\"  # it generate error\n",
    "address2 = \"Hyderabad\"\n",
    "print(2address)"
   ]
  },
  {
   "cell_type": "code",
   "execution_count": 19,
   "id": "41acdff1",
   "metadata": {},
   "outputs": [
    {
     "name": "stdout",
     "output_type": "stream",
     "text": [
      "hyderabad\n"
     ]
    }
   ],
   "source": [
    "address2 = \"hyderabad\"\n",
    "print(address2)"
   ]
  },
  {
   "cell_type": "markdown",
   "id": "56db92c6",
   "metadata": {},
   "source": [
    "#### 3- ```do not use space``` between variable names , if you want separate variable name user ```_``` underscore"
   ]
  },
  {
   "cell_type": "code",
   "execution_count": 20,
   "id": "0f423e7f",
   "metadata": {},
   "outputs": [
    {
     "ename": "SyntaxError",
     "evalue": "invalid syntax (Temp/ipykernel_10436/2160709396.py, line 1)",
     "output_type": "error",
     "traceback": [
      "\u001b[1;36m  File \u001b[1;32m\"C:\\Users\\Tabrizi\\AppData\\Local\\Temp/ipykernel_10436/2160709396.py\"\u001b[1;36m, line \u001b[1;32m1\u001b[0m\n\u001b[1;33m    2 address =  \"karachi\" # it also generate error\u001b[0m\n\u001b[1;37m      ^\u001b[0m\n\u001b[1;31mSyntaxError\u001b[0m\u001b[1;31m:\u001b[0m invalid syntax\n"
     ]
    }
   ],
   "source": [
    "2 address =  \"karachi\" # it also generate error\n",
    "print(2 address)"
   ]
  },
  {
   "cell_type": "code",
   "execution_count": 21,
   "id": "710e6eaa",
   "metadata": {},
   "outputs": [
    {
     "name": "stdout",
     "output_type": "stream",
     "text": [
      "hello\n",
      "hello2\n"
     ]
    }
   ],
   "source": [
    "address_2 = \"hello\"\n",
    "address2 = \"hello2\"\n",
    "\n",
    "print(address_2)\n",
    "print(address2)"
   ]
  },
  {
   "cell_type": "code",
   "execution_count": 22,
   "id": "b10f76bf",
   "metadata": {},
   "outputs": [
    {
     "ename": "SyntaxError",
     "evalue": "invalid syntax (Temp/ipykernel_10436/3149146557.py, line 1)",
     "output_type": "error",
     "traceback": [
      "\u001b[1;36m  File \u001b[1;32m\"C:\\Users\\Tabrizi\\AppData\\Local\\Temp/ipykernel_10436/3149146557.py\"\u001b[1;36m, line \u001b[1;32m1\u001b[0m\n\u001b[1;33m    roll no = \"26\" # it generate error\u001b[0m\n\u001b[1;37m         ^\u001b[0m\n\u001b[1;31mSyntaxError\u001b[0m\u001b[1;31m:\u001b[0m invalid syntax\n"
     ]
    }
   ],
   "source": [
    "roll no = \"26\" # it generate error\n",
    "\n",
    "print(roll no)"
   ]
  },
  {
   "cell_type": "code",
   "execution_count": 23,
   "id": "b09368ef",
   "metadata": {},
   "outputs": [
    {
     "name": "stdout",
     "output_type": "stream",
     "text": [
      "26\n"
     ]
    }
   ],
   "source": [
    "roll_no = \"26\" # it will work\n",
    "print(roll_no)"
   ]
  },
  {
   "cell_type": "markdown",
   "id": "26054ef0",
   "metadata": {},
   "source": [
    "#### 4- ```don't use python keywords``` as variable name\n",
    "like ```print```, ```int``` ```type``` "
   ]
  },
  {
   "cell_type": "code",
   "execution_count": 24,
   "id": "2ac70237",
   "metadata": {},
   "outputs": [
    {
     "ename": "TypeError",
     "evalue": "'int' object is not callable",
     "output_type": "error",
     "traceback": [
      "\u001b[1;31m---------------------------------------------------------------------------\u001b[0m",
      "\u001b[1;31mTypeError\u001b[0m                                 Traceback (most recent call last)",
      "\u001b[1;32m~\\AppData\\Local\\Temp/ipykernel_10436/4114864370.py\u001b[0m in \u001b[0;36m<module>\u001b[1;34m\u001b[0m\n\u001b[0;32m      1\u001b[0m \u001b[0mprint\u001b[0m \u001b[1;33m=\u001b[0m \u001b[1;36m24\u001b[0m \u001b[1;31m# it generate error\u001b[0m\u001b[1;33m\u001b[0m\u001b[1;33m\u001b[0m\u001b[0m\n\u001b[1;32m----> 2\u001b[1;33m \u001b[0mprint\u001b[0m\u001b[1;33m(\u001b[0m\u001b[0mprint\u001b[0m\u001b[1;33m)\u001b[0m\u001b[1;33m\u001b[0m\u001b[1;33m\u001b[0m\u001b[0m\n\u001b[0m",
      "\u001b[1;31mTypeError\u001b[0m: 'int' object is not callable"
     ]
    }
   ],
   "source": [
    "print = 24 # it generate error\n",
    "print(print)"
   ]
  },
  {
   "cell_type": "markdown",
   "id": "fe1953ea",
   "metadata": {},
   "source": [
    "#### 5- ```don't use special character``` as variable name\n",
    "like ```dot . ```, ```slash /``` ```star *``` "
   ]
  },
  {
   "cell_type": "code",
   "execution_count": 6,
   "id": "6bd6ef16",
   "metadata": {},
   "outputs": [
    {
     "ename": "NameError",
     "evalue": "name 'first' is not defined",
     "output_type": "error",
     "traceback": [
      "\u001b[1;31m---------------------------------------------------------------------------\u001b[0m",
      "\u001b[1;31mNameError\u001b[0m                                 Traceback (most recent call last)",
      "Input \u001b[1;32mIn [6]\u001b[0m, in \u001b[0;36m<cell line: 1>\u001b[1;34m()\u001b[0m\n\u001b[1;32m----> 1\u001b[0m \u001b[43mfirst\u001b[49m\u001b[38;5;241m.\u001b[39mname \u001b[38;5;241m=\u001b[39m \u001b[38;5;124m\"\u001b[39m\u001b[38;5;124mAli\u001b[39m\u001b[38;5;124m\"\u001b[39m\n\u001b[0;32m      2\u001b[0m last\u001b[38;5;241m.\u001b[39mname \u001b[38;5;241m=\u001b[39m \u001b[38;5;124m\"\u001b[39m\u001b[38;5;124mMuhammad\u001b[39m\u001b[38;5;124m\"\u001b[39m\n",
      "\u001b[1;31mNameError\u001b[0m: name 'first' is not defined"
     ]
    }
   ],
   "source": [
    "first.name = \"Ali\"\n",
    "last.name = \"Muhammad\"\n",
    "\n"
   ]
  },
  {
   "cell_type": "markdown",
   "id": "6983a5c9",
   "metadata": {},
   "source": [
    "# mathematical expressions\n",
    "\n",
    "```mathematical epressions``` are the arithmetic operator wich is use to perform calculations on numbers. their are four operator which are ```*``` ```/``` ```+``` ```-```"
   ]
  },
  {
   "cell_type": "code",
   "execution_count": 1,
   "id": "78337afc",
   "metadata": {},
   "outputs": [],
   "source": [
    "addition = 2+5\n",
    "subtraction = 10-5\n",
    "division = 4/2\n",
    "multiplication = 3*3\n"
   ]
  },
  {
   "cell_type": "code",
   "execution_count": 2,
   "id": "e508c23f",
   "metadata": {},
   "outputs": [
    {
     "name": "stdout",
     "output_type": "stream",
     "text": [
      "7\n",
      "5\n",
      "2.0\n",
      "9\n"
     ]
    }
   ],
   "source": [
    "print(addition)\n",
    "print(subtraction)\n",
    "print(division)\n",
    "print(multiplication)"
   ]
  },
  {
   "cell_type": "code",
   "execution_count": 3,
   "id": "3e6ec983",
   "metadata": {},
   "outputs": [
    {
     "data": {
      "text/plain": [
       "0"
      ]
     },
     "execution_count": 3,
     "metadata": {},
     "output_type": "execute_result"
    }
   ],
   "source": [
    "2-5+3"
   ]
  },
  {
   "cell_type": "code",
   "execution_count": 4,
   "id": "4a2dec84",
   "metadata": {},
   "outputs": [
    {
     "data": {
      "text/plain": [
       "0"
      ]
     },
     "execution_count": 4,
     "metadata": {},
     "output_type": "execute_result"
    }
   ],
   "source": [
    "3-5+2"
   ]
  },
  {
   "cell_type": "code",
   "execution_count": 5,
   "id": "a1a5a743",
   "metadata": {},
   "outputs": [
    {
     "data": {
      "text/plain": [
       "8"
      ]
     },
     "execution_count": 5,
     "metadata": {},
     "output_type": "execute_result"
    }
   ],
   "source": [
    "8+4-4"
   ]
  },
  {
   "cell_type": "code",
   "execution_count": 6,
   "id": "b5e834db",
   "metadata": {},
   "outputs": [
    {
     "data": {
      "text/plain": [
       "11"
      ]
     },
     "execution_count": 6,
     "metadata": {},
     "output_type": "execute_result"
    }
   ],
   "source": [
    "add =  (2+9)\n",
    "add"
   ]
  },
  {
   "cell_type": "code",
   "execution_count": 7,
   "id": "fd8901b4",
   "metadata": {},
   "outputs": [
    {
     "data": {
      "text/plain": [
       "2.0"
      ]
     },
     "execution_count": 7,
     "metadata": {},
     "output_type": "execute_result"
    }
   ],
   "source": [
    "divide = 4/2 # this will give answer in decimal if you put one slash\n",
    "divide"
   ]
  },
  {
   "cell_type": "code",
   "execution_count": null,
   "id": "d5839d94",
   "metadata": {},
   "outputs": [],
   "source": [
    "divide = 4//2 # this will give answer in whole number if you put two slash\n",
    "divide"
   ]
  },
  {
   "cell_type": "code",
   "execution_count": 8,
   "id": "77f5c91d",
   "metadata": {},
   "outputs": [
    {
     "data": {
      "text/plain": [
       "8"
      ]
     },
     "execution_count": 8,
     "metadata": {},
     "output_type": "execute_result"
    }
   ],
   "source": [
    "multi = 4*2\n",
    "multi"
   ]
  },
  {
   "cell_type": "code",
   "execution_count": 9,
   "id": "23c260a5",
   "metadata": {},
   "outputs": [
    {
     "name": "stdout",
     "output_type": "stream",
     "text": [
      "64\n",
      "16\n"
     ]
    }
   ],
   "source": [
    "power = 8**2 # it used for the values (8x8 = 8^2) is for power 8^2 = 64\n",
    "print(power)\n",
    "\n",
    "power1 = 4**2 # 4^2 = 4x4 = 16\n",
    "print(power1)"
   ]
  },
  {
   "cell_type": "code",
   "execution_count": 1,
   "id": "689aeb37",
   "metadata": {},
   "outputs": [
    {
     "data": {
      "text/plain": [
       "0"
      ]
     },
     "execution_count": 1,
     "metadata": {},
     "output_type": "execute_result"
    }
   ],
   "source": [
    "module = 10 % 2 # % is called as modular, which mean it is to find remainder values in division\n",
    "module"
   ]
  },
  {
   "cell_type": "code",
   "execution_count": 2,
   "id": "87fde995",
   "metadata": {},
   "outputs": [
    {
     "data": {
      "text/plain": [
       "1"
      ]
     },
     "execution_count": 2,
     "metadata": {},
     "output_type": "execute_result"
    }
   ],
   "source": [
    "module = 5 % 2\n",
    "module"
   ]
  },
  {
   "cell_type": "markdown",
   "id": "c13fe3c6",
   "metadata": {},
   "source": [
    "## Python Operators Precedence Rule – PEMDAS\n",
    "- You might have heard about the ```BODMAS``` rule in your school’s mathematics class. Python also uses a similar type of rule known as ```PEMDAS```.\n",
    "\n",
    "- P  ```Parentheses```\n",
    "- E  ```Exponentiation```\n",
    "- M  ```Multiplication```\n",
    "- D  ```Division```\n",
    "- A  ```Addition```\n",
    "- S  ```Subtraction```"
   ]
  },
  {
   "cell_type": "code",
   "execution_count": 3,
   "id": "b9a2d333",
   "metadata": {},
   "outputs": [
    {
     "data": {
      "text/plain": [
       "7.5"
      ]
     },
     "execution_count": 3,
     "metadata": {},
     "output_type": "execute_result"
    }
   ],
   "source": [
    "10-5/2   #according to ```PEMDAS``` rule, first division is perform 5/2 = 2.5 and then subtraction 10-2.5 = 7.5"
   ]
  },
  {
   "cell_type": "code",
   "execution_count": 11,
   "id": "0ae5f422",
   "metadata": {},
   "outputs": [
    {
     "data": {
      "text/plain": [
       "9.0"
      ]
     },
     "execution_count": 11,
     "metadata": {},
     "output_type": "execute_result"
    }
   ],
   "source": [
    "10-5/5 # So, as there."
   ]
  },
  {
   "cell_type": "markdown",
   "id": "d3609f31",
   "metadata": {},
   "source": [
    "-  (10-5)/5  what will be output now..!\n",
    "here first  we have to solve paranthesis after that we solve division\n",
    "\n",
    "1.  (10-5) = 5\n",
    "\n",
    "2.  5/5 = 1"
   ]
  },
  {
   "cell_type": "code",
   "execution_count": 10,
   "id": "21b9728d",
   "metadata": {},
   "outputs": [
    {
     "data": {
      "text/plain": [
       "1.0"
      ]
     },
     "execution_count": 10,
     "metadata": {},
     "output_type": "execute_result"
    }
   ],
   "source": [
    "(10-5)/5"
   ]
  },
  {
   "cell_type": "markdown",
   "id": "d9662811",
   "metadata": {},
   "source": [
    "## solve this equation = ```((((6+4)*2)-10)//2)-4*2```"
   ]
  },
  {
   "cell_type": "markdown",
   "id": "485ea120",
   "metadata": {},
   "source": [
    "#### ((((```6+4```)*2)-10)//2)-4*2\n",
    "#### (((```10*2```)-10)//2)-4*2\n",
    "#### ((```(20)-10```)//2)-4*2\n",
    "#### (```(10//2```)-4*2\n",
    "#### (```5```)-4*2\n",
    "#### 5-```4*2```\n",
    "#### ```5-8```\n",
    "### answer = ```-3```"
   ]
  },
  {
   "cell_type": "code",
   "execution_count": 9,
   "id": "4e770a41",
   "metadata": {},
   "outputs": [
    {
     "data": {
      "text/plain": [
       "-3"
      ]
     },
     "execution_count": 9,
     "metadata": {},
     "output_type": "execute_result"
    }
   ],
   "source": [
    "((((6+4)*2)-10)//2)-4*2\n"
   ]
  },
  {
   "cell_type": "code",
   "execution_count": null,
   "id": "66f51496",
   "metadata": {},
   "outputs": [],
   "source": []
  }
 ],
 "metadata": {
  "kernelspec": {
   "display_name": "Python 3 (ipykernel)",
   "language": "python",
   "name": "python3"
  },
  "language_info": {
   "codemirror_mode": {
    "name": "ipython",
    "version": 3
   },
   "file_extension": ".py",
   "mimetype": "text/x-python",
   "name": "python",
   "nbconvert_exporter": "python",
   "pygments_lexer": "ipython3",
   "version": "3.9.12"
  }
 },
 "nbformat": 4,
 "nbformat_minor": 5
}
