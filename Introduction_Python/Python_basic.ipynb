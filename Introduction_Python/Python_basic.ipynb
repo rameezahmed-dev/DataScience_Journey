{
 "cells": [
  {
   "cell_type": "markdown",
   "id": "943f09cd",
   "metadata": {},
   "source": [
    "# Topics to cover\n",
    "- print\n",
    "- variables (strings, numbers)\n",
    "- variables names (legal, illegal)\n",
    "- mathematical expression (```/, *, +, -```)\n",
    "- mathematical expression (eliminating ambiguity)\n",
    "- concatenating text strings\n"
   ]
  },
  {
   "cell_type": "markdown",
   "id": "c2af7edd",
   "metadata": {},
   "source": [
    "# print \n",
    "\n",
    "```Print``` is keyword which used to display ```strings``` & ```number```\n",
    "    which we write inside the ```paranthesis ()```"
   ]
  },
  {
   "cell_type": "code",
   "execution_count": 29,
   "id": "e8ac982a",
   "metadata": {},
   "outputs": [
    {
     "name": "stdout",
     "output_type": "stream",
     "text": [
      "Hello world..!\n"
     ]
    }
   ],
   "source": [
    "print(\"Hello world..!\")"
   ]
  },
  {
   "cell_type": "code",
   "execution_count": 30,
   "id": "e767444d",
   "metadata": {},
   "outputs": [
    {
     "name": "stdout",
     "output_type": "stream",
     "text": [
      "Welcome to data science\n"
     ]
    }
   ],
   "source": [
    "print(\"Welcome to data science\")"
   ]
  },
  {
   "cell_type": "code",
   "execution_count": 31,
   "id": "fb1f1f7e",
   "metadata": {},
   "outputs": [
    {
     "name": "stdout",
     "output_type": "stream",
     "text": [
      "123\n"
     ]
    }
   ],
   "source": [
    "print(\"123\")"
   ]
  },
  {
   "cell_type": "markdown",
   "id": "3bcadbed",
   "metadata": {},
   "source": [
    "Note: here ```123``` are in form of ```string```"
   ]
  },
  {
   "cell_type": "code",
   "execution_count": 32,
   "id": "e32a79b5",
   "metadata": {},
   "outputs": [
    {
     "name": "stdout",
     "output_type": "stream",
     "text": [
      "1234\n"
     ]
    }
   ],
   "source": [
    "print(1234) "
   ]
  },
  {
   "cell_type": "markdown",
   "id": "77f109d5",
   "metadata": {},
   "source": [
    "Note: here ```1234``` are in form of ```integer```"
   ]
  },
  {
   "cell_type": "markdown",
   "id": "f8aed95c",
   "metadata": {},
   "source": [
    "# variable\n",
    "\n",
    "```variable``` is the container which occupied space in memory to store values    in it. first you have to ```give variable a name```  and than assign values to it by write equal ```=``` to sign after giving name. "
   ]
  },
  {
   "cell_type": "code",
   "execution_count": 33,
   "id": "dc8f7e1b",
   "metadata": {},
   "outputs": [
    {
     "name": "stdout",
     "output_type": "stream",
     "text": [
      "Rameez Ahmed\n"
     ]
    }
   ],
   "source": [
    "name = \"Rameez Ahmed\"\n",
    "print(name)"
   ]
  },
  {
   "cell_type": "markdown",
   "id": "7f8bf361",
   "metadata": {},
   "source": [
    "Note: ```name``` is name of variable which store ```string``` value = ```Rameez Ahmed```"
   ]
  },
  {
   "cell_type": "code",
   "execution_count": 34,
   "id": "062cf6c2",
   "metadata": {},
   "outputs": [
    {
     "name": "stdout",
     "output_type": "stream",
     "text": [
      "25\n"
     ]
    }
   ],
   "source": [
    "age = 25\n",
    "print(age)"
   ]
  },
  {
   "cell_type": "markdown",
   "id": "8c5b0d81",
   "metadata": {},
   "source": [
    "Note: ```age``` is name of variable which store a ```integer``` value = ```25```"
   ]
  },
  {
   "cell_type": "code",
   "execution_count": 35,
   "id": "ccd8eef4",
   "metadata": {},
   "outputs": [
    {
     "name": "stdout",
     "output_type": "stream",
     "text": [
      "Pakistan\n",
      "Sindh\n",
      "Karachi\n"
     ]
    }
   ],
   "source": [
    "country = \"Pakistan\"\n",
    "provence = \"Sindh\"\n",
    "city = \"Karachi\"\n",
    "\n",
    "print(country)\n",
    "print(provence)\n",
    "print(city)"
   ]
  },
  {
   "cell_type": "code",
   "execution_count": 36,
   "id": "f24e49dd",
   "metadata": {},
   "outputs": [
    {
     "name": "stdout",
     "output_type": "stream",
     "text": [
      "Rameez Ahmed\n",
      "25\n",
      "Pakistan\n",
      "Sindh\n",
      "Karachi\n"
     ]
    }
   ],
   "source": [
    "print(name)\n",
    "print(age)\n",
    "print(country)\n",
    "print(provence)\n",
    "print(city)"
   ]
  },
  {
   "cell_type": "code",
   "execution_count": 37,
   "id": "c55d6d63",
   "metadata": {},
   "outputs": [
    {
     "data": {
      "text/plain": [
       "25"
      ]
     },
     "execution_count": 37,
     "metadata": {},
     "output_type": "execute_result"
    }
   ],
   "source": [
    "age = 18\n",
    "age+7\n"
   ]
  },
  {
   "cell_type": "markdown",
   "id": "bcd408a7",
   "metadata": {},
   "source": [
    "Note: So, what happend here!\n",
    "here 7 is added to the age variable which have 18 as its value. so 7 is added 18 which means ```18+7=25```\n",
    "also to note that```datatype of age is integer``` & ``` 7 is also a integer```"
   ]
  },
  {
   "cell_type": "code",
   "execution_count": 38,
   "id": "fd69edbb",
   "metadata": {},
   "outputs": [
    {
     "name": "stdout",
     "output_type": "stream",
     "text": [
      "<class 'int'>\n"
     ]
    }
   ],
   "source": [
    "print(type(age)) # here we check type of variable by keyword \"type\" "
   ]
  },
  {
   "cell_type": "code",
   "execution_count": 39,
   "id": "7ad85182",
   "metadata": {},
   "outputs": [
    {
     "name": "stdout",
     "output_type": "stream",
     "text": [
      "<class 'int'>\n"
     ]
    }
   ],
   "source": [
    "print(type(7)) # here we check type of variable by keyword \"type\""
   ]
  },
  {
   "cell_type": "code",
   "execution_count": 40,
   "id": "79cdfc17",
   "metadata": {},
   "outputs": [
    {
     "name": "stdout",
     "output_type": "stream",
     "text": [
      "<class 'str'>\n"
     ]
    }
   ],
   "source": [
    "print(type(name)) # here we check type of variable by keyword \"type\""
   ]
  },
  {
   "cell_type": "code",
   "execution_count": 41,
   "id": "85df6d50",
   "metadata": {},
   "outputs": [
    {
     "name": "stdout",
     "output_type": "stream",
     "text": [
      "150\n"
     ]
    }
   ],
   "source": [
    "width = 10\n",
    "height = 15\n",
    "area = width * height\n",
    "\n",
    "print(area)"
   ]
  },
  {
   "cell_type": "markdown",
   "id": "20323d25",
   "metadata": {},
   "source": [
    "# variable name rules"
   ]
  },
  {
   "cell_type": "markdown",
   "id": "8193c097",
   "metadata": {},
   "source": [
    "#### 1- variable name should be started with ```Alphabets (A-Z)``` or ```underscore ( _ )```"
   ]
  },
  {
   "cell_type": "code",
   "execution_count": 42,
   "id": "838b720c",
   "metadata": {},
   "outputs": [
    {
     "name": "stdout",
     "output_type": "stream",
     "text": [
      "Rameez Ahmed\n"
     ]
    }
   ],
   "source": [
    "name = \"Rameez Ahmed\"\n",
    "print(name)"
   ]
  },
  {
   "cell_type": "code",
   "execution_count": 43,
   "id": "c787e8b7",
   "metadata": {},
   "outputs": [
    {
     "name": "stdout",
     "output_type": "stream",
     "text": [
      "Muhammad Sadique\n"
     ]
    }
   ],
   "source": [
    "_father_name = \"Muhammad Sadique\"\n",
    "\n",
    "print(_father_name)"
   ]
  },
  {
   "cell_type": "markdown",
   "id": "e16995df",
   "metadata": {},
   "source": [
    "#### 2- variable name should not start with ```number```\n",
    "```but you can use number at the end```"
   ]
  },
  {
   "cell_type": "code",
   "execution_count": 44,
   "id": "7e46448c",
   "metadata": {},
   "outputs": [
    {
     "ename": "SyntaxError",
     "evalue": "invalid syntax (2408471997.py, line 1)",
     "output_type": "error",
     "traceback": [
      "\u001b[1;36m  Input \u001b[1;32mIn [44]\u001b[1;36m\u001b[0m\n\u001b[1;33m    2address = \"karachi\"  # it generate error\u001b[0m\n\u001b[1;37m     ^\u001b[0m\n\u001b[1;31mSyntaxError\u001b[0m\u001b[1;31m:\u001b[0m invalid syntax\n"
     ]
    }
   ],
   "source": [
    "2address = \"karachi\"  # it generate error\n",
    "address2 = \"Hyderabad\"\n",
    "print(2address)"
   ]
  },
  {
   "cell_type": "code",
   "execution_count": 45,
   "id": "41acdff1",
   "metadata": {},
   "outputs": [
    {
     "name": "stdout",
     "output_type": "stream",
     "text": [
      "hyderabad\n"
     ]
    }
   ],
   "source": [
    "address2 = \"hyderabad\"\n",
    "print(address2)"
   ]
  },
  {
   "cell_type": "markdown",
   "id": "56db92c6",
   "metadata": {},
   "source": [
    "#### 3- ```do not use space``` between variable names , if you want separate variable name user ```_``` underscore"
   ]
  },
  {
   "cell_type": "code",
   "execution_count": 46,
   "id": "0f423e7f",
   "metadata": {},
   "outputs": [
    {
     "ename": "SyntaxError",
     "evalue": "invalid syntax (2160709396.py, line 1)",
     "output_type": "error",
     "traceback": [
      "\u001b[1;36m  Input \u001b[1;32mIn [46]\u001b[1;36m\u001b[0m\n\u001b[1;33m    2 address =  \"karachi\" # it also generate error\u001b[0m\n\u001b[1;37m      ^\u001b[0m\n\u001b[1;31mSyntaxError\u001b[0m\u001b[1;31m:\u001b[0m invalid syntax\n"
     ]
    }
   ],
   "source": [
    "2 address =  \"karachi\" # it also generate error\n",
    "print(2 address)"
   ]
  },
  {
   "cell_type": "code",
   "execution_count": 47,
   "id": "710e6eaa",
   "metadata": {},
   "outputs": [
    {
     "name": "stdout",
     "output_type": "stream",
     "text": [
      "hello\n",
      "hello2\n"
     ]
    }
   ],
   "source": [
    "address_2 = \"hello\"\n",
    "address2 = \"hello2\"\n",
    "\n",
    "print(address_2)\n",
    "print(address2)"
   ]
  },
  {
   "cell_type": "code",
   "execution_count": 48,
   "id": "b10f76bf",
   "metadata": {},
   "outputs": [
    {
     "ename": "SyntaxError",
     "evalue": "invalid syntax (3149146557.py, line 1)",
     "output_type": "error",
     "traceback": [
      "\u001b[1;36m  Input \u001b[1;32mIn [48]\u001b[1;36m\u001b[0m\n\u001b[1;33m    roll no = \"26\" # it generate error\u001b[0m\n\u001b[1;37m         ^\u001b[0m\n\u001b[1;31mSyntaxError\u001b[0m\u001b[1;31m:\u001b[0m invalid syntax\n"
     ]
    }
   ],
   "source": [
    "roll no = \"26\" # it generate error\n",
    "\n",
    "print(roll no)"
   ]
  },
  {
   "cell_type": "code",
   "execution_count": 49,
   "id": "b09368ef",
   "metadata": {},
   "outputs": [
    {
     "name": "stdout",
     "output_type": "stream",
     "text": [
      "26\n"
     ]
    }
   ],
   "source": [
    "roll_no = \"26\" # it will work\n",
    "print(roll_no)"
   ]
  },
  {
   "cell_type": "markdown",
   "id": "26054ef0",
   "metadata": {},
   "source": [
    "#### 4- ```don't use python keywords``` as variable name\n",
    "like ```print```, ```int``` ```type``` "
   ]
  },
  {
   "cell_type": "code",
   "execution_count": 50,
   "id": "2ac70237",
   "metadata": {},
   "outputs": [
    {
     "ename": "TypeError",
     "evalue": "'int' object is not callable",
     "output_type": "error",
     "traceback": [
      "\u001b[1;31m---------------------------------------------------------------------------\u001b[0m",
      "\u001b[1;31mTypeError\u001b[0m                                 Traceback (most recent call last)",
      "Input \u001b[1;32mIn [50]\u001b[0m, in \u001b[0;36m<cell line: 2>\u001b[1;34m()\u001b[0m\n\u001b[0;32m      1\u001b[0m \u001b[38;5;28mprint\u001b[39m \u001b[38;5;241m=\u001b[39m \u001b[38;5;241m24\u001b[39m \u001b[38;5;66;03m# it generate error\u001b[39;00m\n\u001b[1;32m----> 2\u001b[0m \u001b[38;5;28;43mprint\u001b[39;49m\u001b[43m(\u001b[49m\u001b[38;5;28;43mprint\u001b[39;49m\u001b[43m)\u001b[49m\n",
      "\u001b[1;31mTypeError\u001b[0m: 'int' object is not callable"
     ]
    }
   ],
   "source": [
    "print = 24 # it generate error\n",
    "print(print)"
   ]
  },
  {
   "cell_type": "markdown",
   "id": "fe1953ea",
   "metadata": {},
   "source": [
    "#### 5- ```don't use special character``` as variable name\n",
    "like ```dot . ```, ```slash /``` ```star *``` "
   ]
  },
  {
   "cell_type": "code",
   "execution_count": 51,
   "id": "6bd6ef16",
   "metadata": {},
   "outputs": [
    {
     "ename": "NameError",
     "evalue": "name 'first' is not defined",
     "output_type": "error",
     "traceback": [
      "\u001b[1;31m---------------------------------------------------------------------------\u001b[0m",
      "\u001b[1;31mNameError\u001b[0m                                 Traceback (most recent call last)",
      "Input \u001b[1;32mIn [51]\u001b[0m, in \u001b[0;36m<cell line: 1>\u001b[1;34m()\u001b[0m\n\u001b[1;32m----> 1\u001b[0m \u001b[43mfirst\u001b[49m\u001b[38;5;241m.\u001b[39mname \u001b[38;5;241m=\u001b[39m \u001b[38;5;124m\"\u001b[39m\u001b[38;5;124mAli\u001b[39m\u001b[38;5;124m\"\u001b[39m\n\u001b[0;32m      2\u001b[0m last\u001b[38;5;241m.\u001b[39mname \u001b[38;5;241m=\u001b[39m \u001b[38;5;124m\"\u001b[39m\u001b[38;5;124mMuhammad\u001b[39m\u001b[38;5;124m\"\u001b[39m\n",
      "\u001b[1;31mNameError\u001b[0m: name 'first' is not defined"
     ]
    }
   ],
   "source": [
    "first.name = \"Ali\"\n",
    "last.name = \"Muhammad\"\n",
    "\n"
   ]
  },
  {
   "cell_type": "markdown",
   "id": "6983a5c9",
   "metadata": {},
   "source": [
    "# mathematical expressions\n",
    "\n",
    "```mathematical epressions``` are the arithmetic operator wich is use to perform calculations on numbers. their are four operator which are ```*``` ```/``` ```+``` ```-```"
   ]
  },
  {
   "cell_type": "code",
   "execution_count": 1,
   "id": "78337afc",
   "metadata": {},
   "outputs": [],
   "source": [
    "addition = 2 + 5\n",
    "subtraction = 10-5\n",
    "division = 4/2\n",
    "multiplication = 3*3\n"
   ]
  },
  {
   "cell_type": "code",
   "execution_count": 2,
   "id": "e508c23f",
   "metadata": {},
   "outputs": [
    {
     "name": "stdout",
     "output_type": "stream",
     "text": [
      "7\n",
      "5\n",
      "2.0\n",
      "9\n"
     ]
    }
   ],
   "source": [
    "print(addition)\n",
    "print(subtraction)\n",
    "print(division)\n",
    "print(multiplication)"
   ]
  },
  {
   "cell_type": "code",
   "execution_count": 1,
   "id": "3e6ec983",
   "metadata": {},
   "outputs": [
    {
     "data": {
      "text/plain": [
       "0"
      ]
     },
     "execution_count": 1,
     "metadata": {},
     "output_type": "execute_result"
    }
   ],
   "source": [
    "2-5+3"
   ]
  },
  {
   "cell_type": "code",
   "execution_count": 2,
   "id": "4a2dec84",
   "metadata": {},
   "outputs": [
    {
     "data": {
      "text/plain": [
       "0"
      ]
     },
     "execution_count": 2,
     "metadata": {},
     "output_type": "execute_result"
    }
   ],
   "source": [
    "3-5+2"
   ]
  },
  {
   "cell_type": "code",
   "execution_count": 3,
   "id": "a1a5a743",
   "metadata": {},
   "outputs": [
    {
     "data": {
      "text/plain": [
       "8"
      ]
     },
     "execution_count": 3,
     "metadata": {},
     "output_type": "execute_result"
    }
   ],
   "source": [
    "8+4-4"
   ]
  },
  {
   "cell_type": "code",
   "execution_count": 4,
   "id": "b5e834db",
   "metadata": {},
   "outputs": [
    {
     "data": {
      "text/plain": [
       "11"
      ]
     },
     "execution_count": 4,
     "metadata": {},
     "output_type": "execute_result"
    }
   ],
   "source": [
    "add =  (2+9)\n",
    "add"
   ]
  },
  {
   "cell_type": "code",
   "execution_count": 5,
   "id": "fd8901b4",
   "metadata": {},
   "outputs": [
    {
     "data": {
      "text/plain": [
       "2.0"
      ]
     },
     "execution_count": 5,
     "metadata": {},
     "output_type": "execute_result"
    }
   ],
   "source": [
    "divide = 4/2 # this will give answer in decimal if you put one slash\n",
    "divide"
   ]
  },
  {
   "cell_type": "code",
   "execution_count": 6,
   "id": "d5839d94",
   "metadata": {},
   "outputs": [
    {
     "data": {
      "text/plain": [
       "2"
      ]
     },
     "execution_count": 6,
     "metadata": {},
     "output_type": "execute_result"
    }
   ],
   "source": [
    "divide = 4//2 # this will give answer in whole number if you put two slash\n",
    "divide"
   ]
  },
  {
   "cell_type": "code",
   "execution_count": 7,
   "id": "77f5c91d",
   "metadata": {},
   "outputs": [
    {
     "data": {
      "text/plain": [
       "8"
      ]
     },
     "execution_count": 7,
     "metadata": {},
     "output_type": "execute_result"
    }
   ],
   "source": [
    "multi = 4*2\n",
    "multi"
   ]
  },
  {
   "cell_type": "code",
   "execution_count": 8,
   "id": "23c260a5",
   "metadata": {},
   "outputs": [
    {
     "name": "stdout",
     "output_type": "stream",
     "text": [
      "64\n",
      "16\n"
     ]
    }
   ],
   "source": [
    "power = 8**2 # it used for the values (8x8 = 8^2) is for power 8^2 = 64\n",
    "print(power)\n",
    "\n",
    "power1 = 4**2 # 4^2 = 4x4 = 16\n",
    "print(power1)"
   ]
  },
  {
   "cell_type": "code",
   "execution_count": 9,
   "id": "689aeb37",
   "metadata": {},
   "outputs": [
    {
     "data": {
      "text/plain": [
       "0"
      ]
     },
     "execution_count": 9,
     "metadata": {},
     "output_type": "execute_result"
    }
   ],
   "source": [
    "module = 10 % 2 # % is called as modular, which mean it is to find remainder values in division\n",
    "module"
   ]
  },
  {
   "cell_type": "code",
   "execution_count": 10,
   "id": "87fde995",
   "metadata": {},
   "outputs": [
    {
     "data": {
      "text/plain": [
       "1"
      ]
     },
     "execution_count": 10,
     "metadata": {},
     "output_type": "execute_result"
    }
   ],
   "source": [
    "module = 5 % 2\n",
    "module"
   ]
  },
  {
   "cell_type": "markdown",
   "id": "c13fe3c6",
   "metadata": {},
   "source": [
    "## Python Operators Precedence Rule – PEMDAS\n",
    "- You might have heard about the ```BODMAS``` rule in your school’s mathematics class. Python also uses a similar type of rule known as ```PEMDAS```.\n",
    "\n",
    "- P  ```Parentheses```\n",
    "- E  ```Exponentiation```\n",
    "- M  ```Multiplication```\n",
    "- D  ```Division```\n",
    "- A  ```Addition```\n",
    "- S  ```Subtraction```"
   ]
  },
  {
   "cell_type": "code",
   "execution_count": 11,
   "id": "b9a2d333",
   "metadata": {},
   "outputs": [
    {
     "data": {
      "text/plain": [
       "7.5"
      ]
     },
     "execution_count": 11,
     "metadata": {},
     "output_type": "execute_result"
    }
   ],
   "source": [
    "10-5/2   #according to ```PEMDAS``` rule, first division is perform 5/2 = 2.5 and then subtraction 10-2.5 = 7.5"
   ]
  },
  {
   "cell_type": "code",
   "execution_count": 12,
   "id": "0ae5f422",
   "metadata": {},
   "outputs": [
    {
     "data": {
      "text/plain": [
       "9.0"
      ]
     },
     "execution_count": 12,
     "metadata": {},
     "output_type": "execute_result"
    }
   ],
   "source": [
    "10-5/5 # So, as there."
   ]
  },
  {
   "cell_type": "markdown",
   "id": "d3609f31",
   "metadata": {},
   "source": [
    "-  (10-5)/5  what will be output now..!\n",
    "here first  we have to solve paranthesis after that we solve division\n",
    "\n",
    "1.  (10-5) = 5\n",
    "\n",
    "2.  5/5 = 1"
   ]
  },
  {
   "cell_type": "code",
   "execution_count": 13,
   "id": "21b9728d",
   "metadata": {},
   "outputs": [
    {
     "data": {
      "text/plain": [
       "1.0"
      ]
     },
     "execution_count": 13,
     "metadata": {},
     "output_type": "execute_result"
    }
   ],
   "source": [
    "(10-5)/5"
   ]
  },
  {
   "cell_type": "markdown",
   "id": "d9662811",
   "metadata": {},
   "source": [
    "## solve this equation = ```((((6+4)*2)-10)//2)-4*2```"
   ]
  },
  {
   "cell_type": "markdown",
   "id": "485ea120",
   "metadata": {},
   "source": [
    "#### ((((```6+4```)*2)-10)//2)-4*2\n",
    "#### (((```10*2```)-10)//2)-4*2\n",
    "#### ((```(20)-10```)//2)-4*2\n",
    "#### (```(10//2```)-4*2\n",
    "#### (```5```)-4*2\n",
    "#### 5-```4*2```\n",
    "#### ```5-8```\n",
    "### answer = ```-3```"
   ]
  },
  {
   "cell_type": "code",
   "execution_count": 14,
   "id": "4e770a41",
   "metadata": {},
   "outputs": [
    {
     "data": {
      "text/plain": [
       "-3"
      ]
     },
     "execution_count": 14,
     "metadata": {},
     "output_type": "execute_result"
    }
   ],
   "source": [
    "((((6+4)*2)-10)//2)-4*2\n"
   ]
  },
  {
   "cell_type": "markdown",
   "id": "aa82685b",
   "metadata": {},
   "source": [
    "## Concatenation in python\n",
    "\n",
    "Concatenation is the technique of ```combining two strings```. String Concatenation can be done using many ways\n",
    "\n",
    "- Using ```+``` operator \n",
    " \n",
    "- Using ```join()``` method \n",
    " \n",
    "- Using ```%``` operator \n",
    " \n",
    "- Using ```format()``` function \n",
    " \n",
    "- Using ```,``` (comma)"
   ]
  },
  {
   "cell_type": "markdown",
   "id": "67e03850",
   "metadata": {},
   "source": [
    "#### Using ```+``` operator"
   ]
  },
  {
   "cell_type": "code",
   "execution_count": 15,
   "id": "09a6ea6e",
   "metadata": {},
   "outputs": [],
   "source": [
    "# lets create two variable and combine them together with + operator \n",
    "first_name = \"Rameez\"\n",
    "last_name = \"Ahmed\"\n",
    "\n",
    "# if you combine them, you have to create 3rd variable to store both varible's values.\n",
    "full_name = first_name + last_name   # now both variable's value stored in full_name variable"
   ]
  },
  {
   "cell_type": "code",
   "execution_count": 16,
   "id": "22db5924",
   "metadata": {},
   "outputs": [
    {
     "name": "stdout",
     "output_type": "stream",
     "text": [
      "RameezAhmed\n"
     ]
    }
   ],
   "source": [
    "print(full_name)"
   ]
  },
  {
   "cell_type": "code",
   "execution_count": 17,
   "id": "1aa3320d",
   "metadata": {},
   "outputs": [
    {
     "name": "stdout",
     "output_type": "stream",
     "text": [
      "Rameez Ahmed\n"
     ]
    }
   ],
   "source": [
    "#as you noted full name doesn't have any space between them, so we have to create space between them by two quotation marks \"  \"\n",
    "\n",
    "full_name = first_name + \" \" + last_name\n",
    "\n",
    "print(full_name)"
   ]
  },
  {
   "cell_type": "markdown",
   "id": "b1276643",
   "metadata": {},
   "source": [
    "- can we combine age variable with name?"
   ]
  },
  {
   "cell_type": "code",
   "execution_count": 18,
   "id": "2d450a97",
   "metadata": {},
   "outputs": [
    {
     "ename": "TypeError",
     "evalue": "can only concatenate str (not \"int\") to str",
     "output_type": "error",
     "traceback": [
      "\u001b[1;31m---------------------------------------------------------------------------\u001b[0m",
      "\u001b[1;31mTypeError\u001b[0m                                 Traceback (most recent call last)",
      "Input \u001b[1;32mIn [18]\u001b[0m, in \u001b[0;36m<cell line: 4>\u001b[1;34m()\u001b[0m\n\u001b[0;32m      1\u001b[0m name \u001b[38;5;241m=\u001b[39m \u001b[38;5;124m\"\u001b[39m\u001b[38;5;124mRameez Ahmed\u001b[39m\u001b[38;5;124m\"\u001b[39m\n\u001b[0;32m      2\u001b[0m age \u001b[38;5;241m=\u001b[39m \u001b[38;5;241m25\u001b[39m\n\u001b[1;32m----> 4\u001b[0m name_age \u001b[38;5;241m=\u001b[39m \u001b[43mname\u001b[49m\u001b[43m \u001b[49m\u001b[38;5;241;43m+\u001b[39;49m\u001b[43m \u001b[49m\u001b[43mage\u001b[49m \u001b[38;5;66;03m# can this run or generate error..? let print it another cell\u001b[39;00m\n\u001b[0;32m      6\u001b[0m \u001b[38;5;28mprint\u001b[39m(name_age)\n",
      "\u001b[1;31mTypeError\u001b[0m: can only concatenate str (not \"int\") to str"
     ]
    }
   ],
   "source": [
    "name = \"Rameez Ahmed\"\n",
    "age = 25\n",
    "\n",
    "name_age = name + age # can this run or generate error..? let print it another cell\n",
    "\n",
    "print(name_age)"
   ]
  },
  {
   "cell_type": "markdown",
   "id": "f0b12370",
   "metadata": {},
   "source": [
    "so, ```we can not combine or concatenate string to integer.```\n",
    "\n",
    "but if ```we change the data-type of integer into string, our code will run```"
   ]
  },
  {
   "cell_type": "code",
   "execution_count": 19,
   "id": "12324537",
   "metadata": {},
   "outputs": [
    {
     "name": "stdout",
     "output_type": "stream",
     "text": [
      "Rameez Ahmed 25\n"
     ]
    }
   ],
   "source": [
    "# change data type of age-----> to string---------> str(age)\n",
    "\n",
    "name = \"Rameez Ahmed\"\n",
    "age = 25\n",
    "\n",
    "name_age = name + \" \" + str(age) # here , we changed the data type of age from integer to string.\n",
    "print(name_age)"
   ]
  },
  {
   "cell_type": "markdown",
   "id": "886f7a3a",
   "metadata": {},
   "source": [
    "#### Using ```join()``` method\n",
    "\n",
    "lets take same example of name"
   ]
  },
  {
   "cell_type": "code",
   "execution_count": 20,
   "id": "b0c16172",
   "metadata": {},
   "outputs": [
    {
     "name": "stdout",
     "output_type": "stream",
     "text": [
      "ShamsTabrizi\n",
      "Shams Tabrizi\n"
     ]
    }
   ],
   "source": [
    "first_name = \"Shams\"\n",
    "last_name = \"Tabrizi\"\n",
    "\n",
    "# here its depend on you to direct joint both values or store both variable to 3rd variable and then join them\n",
    "\n",
    "\n",
    "#direct join and print result.\n",
    "print(\"\".join([first_name, last_name]))\n",
    "\n",
    "# with space between names\n",
    "print(\" \".join([first_name, last_name]))\n",
    "\n"
   ]
  },
  {
   "cell_type": "code",
   "execution_count": 21,
   "id": "f8e37bf6",
   "metadata": {},
   "outputs": [
    {
     "name": "stdout",
     "output_type": "stream",
     "text": [
      "ShamsTabrizi\n",
      "Shams Tabrizi\n"
     ]
    }
   ],
   "source": [
    "first_name = \"Shams\"\n",
    "last_name = \"Tabrizi\"\n",
    "\n",
    "# here its depend on you to direct joint both values or store both variable to 3rd variable and then join them\n",
    "\n",
    "#create 3rd variable to store both values\n",
    "full_name = \"\".join([first_name, last_name])\n",
    "print(full_name)\n",
    "\n",
    "#with space between names\n",
    "full_name = \" \".join([first_name, last_name])\n",
    "print(full_name)\n"
   ]
  },
  {
   "cell_type": "markdown",
   "id": "84a09701",
   "metadata": {},
   "source": [
    "#### Using ```format()``` method"
   ]
  },
  {
   "cell_type": "code",
   "execution_count": 22,
   "id": "74afbef9",
   "metadata": {},
   "outputs": [
    {
     "name": "stdout",
     "output_type": "stream",
     "text": [
      "Sindh Pakistan\n",
      "Sindh Pakistan\n"
     ]
    }
   ],
   "source": [
    "provence = \"Sindh\"\n",
    "country = \"Pakistan\"\n",
    "\n",
    "\n",
    "print(\"{} {}\".format(provence, country))\n",
    "\n",
    "\n",
    "#store values inside 3rd variables.\n",
    "\n",
    "provence_state = \"{} {}\".format(provence, country)\n",
    "\n",
    "print(provence_state)"
   ]
  },
  {
   "cell_type": "markdown",
   "id": "7327d9fa",
   "metadata": {},
   "source": [
    "#### Using ```, comma``` method"
   ]
  },
  {
   "cell_type": "code",
   "execution_count": 23,
   "id": "36a97a6d",
   "metadata": {},
   "outputs": [
    {
     "name": "stdout",
     "output_type": "stream",
     "text": [
      "Hello World\n"
     ]
    }
   ],
   "source": [
    "first_word = \"Hello\"\n",
    "second_word = \"World\"\n",
    "\n",
    "print(first_word,second_word)"
   ]
  },
  {
   "cell_type": "markdown",
   "id": "fea76583",
   "metadata": {},
   "source": [
    "# Basic of python ends here."
   ]
  },
  {
   "cell_type": "code",
   "execution_count": null,
   "id": "81ca48f2",
   "metadata": {},
   "outputs": [],
   "source": []
  }
 ],
 "metadata": {
  "kernelspec": {
   "display_name": "Python 3 (ipykernel)",
   "language": "python",
   "name": "python3"
  },
  "language_info": {
   "codemirror_mode": {
    "name": "ipython",
    "version": 3
   },
   "file_extension": ".py",
   "mimetype": "text/x-python",
   "name": "python",
   "nbconvert_exporter": "python",
   "pygments_lexer": "ipython3",
   "version": "3.9.12"
  }
 },
 "nbformat": 4,
 "nbformat_minor": 5
}
